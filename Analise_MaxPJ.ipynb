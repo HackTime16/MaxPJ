{
  "nbformat": 4,
  "nbformat_minor": 0,
  "metadata": {
    "language_info": {
      "codemirror_mode": {
        "name": "ipython",
        "version": 3
      },
      "file_extension": ".py",
      "mimetype": "text/x-python",
      "name": "python",
      "nbconvert_exporter": "python",
      "pygments_lexer": "ipython3",
      "version": 3
    },
    "orig_nbformat": 2,
    "kernelspec": {
      "name": "python_defaultSpec_1596390966761",
      "display_name": "Python 3.8.5 64-bit"
    },
    "colab": {
      "name": "Analise MaxPJ.ipynb",
      "provenance": [],
      "include_colab_link": true
    }
  },
  "cells": [
    {
      "cell_type": "markdown",
      "metadata": {
        "id": "view-in-github",
        "colab_type": "text"
      },
      "source": [
        "<a href=\"https://colab.research.google.com/github/HackTime16/MaxPJ/blob/master/Analise_MaxPJ.ipynb\" target=\"_parent\"><img src=\"https://colab.research.google.com/assets/colab-badge.svg\" alt=\"Open In Colab\"/></a>"
      ]
    },
    {
      "cell_type": "markdown",
      "metadata": {
        "id": "weXbtwP_UgPy",
        "colab_type": "text"
      },
      "source": [
        "\n",
        "## O ano de 2020 entrará para a história como um ano de crise e muitas dificuldades. Marcado não apenas por esta pandemia, mas támbem com o processo de reinvenção e adaptação ao novo normal.\n",
        "## E em busca de uma solução para os pequenos e médios negocios que são um dos principais afetados, segue abaixo um estudo para orientação.\n",
        "\n"
      ]
    },
    {
      "cell_type": "markdown",
      "metadata": {
        "id": "aYT3ZVDiaCIc",
        "colab_type": "text"
      },
      "source": [
        "Qual o problema?\n",
        "R: **Empresas de pequeno e médio porte, tiveram que parar devido a quarentena e agora que o mercado está voltando e elas precisão de se reinventar**"
      ]
    },
    {
      "cell_type": "code",
      "metadata": {
        "id": "W8N_oXr_dxX1",
        "colab_type": "code",
        "colab": {}
      },
      "source": [
        "import pandas as pd"
      ],
      "execution_count": null,
      "outputs": []
    },
    {
      "cell_type": "markdown",
      "metadata": {
        "id": "NnUDlonMBX3D",
        "colab_type": "text"
      },
      "source": [
        "**Em busca de entender o cenario atual, analizamos o histórico dos indices de IPCA de 2018 vs 2020.**"
      ]
    },
    {
      "cell_type": "code",
      "metadata": {
        "id": "lt4NmrnjdxX9",
        "colab_type": "code",
        "colab": {
          "base_uri": "https://localhost:8080/",
          "height": 421
        },
        "outputId": "34f1d87f-5027-48d2-ad9b-9bb96e121ff8"
      },
      "source": [
        "csv_indice_sp = 'https://raw.githubusercontent.com/HackTime16/MaxPJ/master/Databases/Indices_SP.csv'\n",
        "\n",
        "indice_sp = pd.read_csv(csv_indice_sp, delimiter=';', encoding='cp1252')\n",
        "indice_sp"
      ],
      "execution_count": null,
      "outputs": [
        {
          "output_type": "execute_result",
          "data": {
            "text/html": [
              "<div>\n",
              "<style scoped>\n",
              "    .dataframe tbody tr th:only-of-type {\n",
              "        vertical-align: middle;\n",
              "    }\n",
              "\n",
              "    .dataframe tbody tr th {\n",
              "        vertical-align: top;\n",
              "    }\n",
              "\n",
              "    .dataframe thead th {\n",
              "        text-align: right;\n",
              "    }\n",
              "</style>\n",
              "<table border=\"1\" class=\"dataframe\">\n",
              "  <thead>\n",
              "    <tr style=\"text-align: right;\">\n",
              "      <th></th>\n",
              "      <th>local</th>\n",
              "      <th>Mês</th>\n",
              "      <th>Ano</th>\n",
              "      <th>Índice_geral</th>\n",
              "      <th>1_Alimentação_e_bebidas</th>\n",
              "      <th>2_Habitação</th>\n",
              "      <th>3_Artigos_de_residência</th>\n",
              "      <th>4_Vestuário</th>\n",
              "      <th>5_Transportes</th>\n",
              "      <th>6_Saúde_e_cuidados_pessoais</th>\n",
              "      <th>7_Despesas_pessoais</th>\n",
              "      <th>8_Educação</th>\n",
              "      <th>9_Comunicação</th>\n",
              "    </tr>\n",
              "  </thead>\n",
              "  <tbody>\n",
              "    <tr>\n",
              "      <th>0</th>\n",
              "      <td>São Paulo (SP)</td>\n",
              "      <td>jan</td>\n",
              "      <td>2018</td>\n",
              "      <td>0,21</td>\n",
              "      <td>0,33</td>\n",
              "      <td>-0,89</td>\n",
              "      <td>0,17</td>\n",
              "      <td>-1,47</td>\n",
              "      <td>1,21</td>\n",
              "      <td>0,58</td>\n",
              "      <td>0,13</td>\n",
              "      <td>0,19</td>\n",
              "      <td>0,15</td>\n",
              "    </tr>\n",
              "    <tr>\n",
              "      <th>1</th>\n",
              "      <td>São Paulo (SP)</td>\n",
              "      <td>fev</td>\n",
              "      <td>2018</td>\n",
              "      <td>0,50</td>\n",
              "      <td>-0,14</td>\n",
              "      <td>-0,64</td>\n",
              "      <td>0,20</td>\n",
              "      <td>-1,08</td>\n",
              "      <td>1,71</td>\n",
              "      <td>1,00</td>\n",
              "      <td>0,19</td>\n",
              "      <td>3,70</td>\n",
              "      <td>0,25</td>\n",
              "    </tr>\n",
              "    <tr>\n",
              "      <th>2</th>\n",
              "      <td>São Paulo (SP)</td>\n",
              "      <td>mar</td>\n",
              "      <td>2018</td>\n",
              "      <td>0,72</td>\n",
              "      <td>0,45</td>\n",
              "      <td>-0,53</td>\n",
              "      <td>0,12</td>\n",
              "      <td>-1,19</td>\n",
              "      <td>1,59</td>\n",
              "      <td>1,53</td>\n",
              "      <td>0,41</td>\n",
              "      <td>4,08</td>\n",
              "      <td>-0,13</td>\n",
              "    </tr>\n",
              "    <tr>\n",
              "      <th>3</th>\n",
              "      <td>São Paulo (SP)</td>\n",
              "      <td>abr</td>\n",
              "      <td>2018</td>\n",
              "      <td>0,82</td>\n",
              "      <td>0,06</td>\n",
              "      <td>-0,77</td>\n",
              "      <td>0,32</td>\n",
              "      <td>-0,18</td>\n",
              "      <td>1,71</td>\n",
              "      <td>2,65</td>\n",
              "      <td>0,40</td>\n",
              "      <td>4,16</td>\n",
              "      <td>-0,19</td>\n",
              "    </tr>\n",
              "    <tr>\n",
              "      <th>4</th>\n",
              "      <td>São Paulo (SP)</td>\n",
              "      <td>mai</td>\n",
              "      <td>2018</td>\n",
              "      <td>1,02</td>\n",
              "      <td>0,57</td>\n",
              "      <td>-0,42</td>\n",
              "      <td>-0,30</td>\n",
              "      <td>0,55</td>\n",
              "      <td>1,42</td>\n",
              "      <td>3,03</td>\n",
              "      <td>0,51</td>\n",
              "      <td>4,19</td>\n",
              "      <td>-0,21</td>\n",
              "    </tr>\n",
              "    <tr>\n",
              "      <th>5</th>\n",
              "      <td>São Paulo (SP)</td>\n",
              "      <td>jun</td>\n",
              "      <td>2018</td>\n",
              "      <td>2,14</td>\n",
              "      <td>2,69</td>\n",
              "      <td>1,43</td>\n",
              "      <td>-0,34</td>\n",
              "      <td>0,11</td>\n",
              "      <td>2,88</td>\n",
              "      <td>3,39</td>\n",
              "      <td>0,85</td>\n",
              "      <td>4,20</td>\n",
              "      <td>-0,19</td>\n",
              "    </tr>\n",
              "    <tr>\n",
              "      <th>6</th>\n",
              "      <td>São Paulo (SP)</td>\n",
              "      <td>jan</td>\n",
              "      <td>2020</td>\n",
              "      <td>0,33</td>\n",
              "      <td>0,33</td>\n",
              "      <td>0,71</td>\n",
              "      <td>-0,46</td>\n",
              "      <td>-0,20</td>\n",
              "      <td>0,54</td>\n",
              "      <td>-0,11</td>\n",
              "      <td>0,54</td>\n",
              "      <td>0,13</td>\n",
              "      <td>0,18</td>\n",
              "    </tr>\n",
              "    <tr>\n",
              "      <th>7</th>\n",
              "      <td>São Paulo (SP)</td>\n",
              "      <td>fev</td>\n",
              "      <td>2020</td>\n",
              "      <td>0,23</td>\n",
              "      <td>-0,34</td>\n",
              "      <td>-0,10</td>\n",
              "      <td>-0,28</td>\n",
              "      <td>-1,00</td>\n",
              "      <td>0,00</td>\n",
              "      <td>0,58</td>\n",
              "      <td>0,18</td>\n",
              "      <td>3,64</td>\n",
              "      <td>0,06</td>\n",
              "    </tr>\n",
              "    <tr>\n",
              "      <th>8</th>\n",
              "      <td>São Paulo (SP)</td>\n",
              "      <td>mar</td>\n",
              "      <td>2020</td>\n",
              "      <td>0,09</td>\n",
              "      <td>1,38</td>\n",
              "      <td>0,13</td>\n",
              "      <td>-0,80</td>\n",
              "      <td>-0,21</td>\n",
              "      <td>-1,01</td>\n",
              "      <td>0,24</td>\n",
              "      <td>-0,26</td>\n",
              "      <td>0,58</td>\n",
              "      <td>0,28</td>\n",
              "    </tr>\n",
              "    <tr>\n",
              "      <th>9</th>\n",
              "      <td>São Paulo (SP)</td>\n",
              "      <td>abr</td>\n",
              "      <td>2020</td>\n",
              "      <td>-0,37</td>\n",
              "      <td>1,95</td>\n",
              "      <td>-0,82</td>\n",
              "      <td>-0,69</td>\n",
              "      <td>0,83</td>\n",
              "      <td>-2,81</td>\n",
              "      <td>-0,21</td>\n",
              "      <td>-0,09</td>\n",
              "      <td>0,03</td>\n",
              "      <td>-0,14</td>\n",
              "    </tr>\n",
              "    <tr>\n",
              "      <th>10</th>\n",
              "      <td>São Paulo (SP)</td>\n",
              "      <td>mai</td>\n",
              "      <td>2020</td>\n",
              "      <td>-0,28</td>\n",
              "      <td>-0,02</td>\n",
              "      <td>-0,11</td>\n",
              "      <td>0,77</td>\n",
              "      <td>-0,95</td>\n",
              "      <td>-1,30</td>\n",
              "      <td>-0,16</td>\n",
              "      <td>-0,03</td>\n",
              "      <td>0,04</td>\n",
              "      <td>0,38</td>\n",
              "    </tr>\n",
              "    <tr>\n",
              "      <th>11</th>\n",
              "      <td>São Paulo (SP)</td>\n",
              "      <td>jun</td>\n",
              "      <td>2020</td>\n",
              "      <td>0,29</td>\n",
              "      <td>0,59</td>\n",
              "      <td>0,04</td>\n",
              "      <td>1,88</td>\n",
              "      <td>-0,25</td>\n",
              "      <td>0,15</td>\n",
              "      <td>0,66</td>\n",
              "      <td>-0,08</td>\n",
              "      <td>0,02</td>\n",
              "      <td>0,21</td>\n",
              "    </tr>\n",
              "  </tbody>\n",
              "</table>\n",
              "</div>"
            ],
            "text/plain": [
              "             local  Mês   Ano  ... 7_Despesas_pessoais 8_Educação 9_Comunicação\n",
              "0   São Paulo (SP)  jan  2018  ...                0,13       0,19          0,15\n",
              "1   São Paulo (SP)  fev  2018  ...                0,19       3,70          0,25\n",
              "2   São Paulo (SP)  mar  2018  ...                0,41       4,08         -0,13\n",
              "3   São Paulo (SP)  abr  2018  ...                0,40       4,16         -0,19\n",
              "4   São Paulo (SP)  mai  2018  ...                0,51       4,19         -0,21\n",
              "5   São Paulo (SP)  jun  2018  ...                0,85       4,20         -0,19\n",
              "6   São Paulo (SP)  jan  2020  ...                0,54       0,13          0,18\n",
              "7   São Paulo (SP)  fev  2020  ...                0,18       3,64          0,06\n",
              "8   São Paulo (SP)  mar  2020  ...               -0,26       0,58          0,28\n",
              "9   São Paulo (SP)  abr  2020  ...               -0,09       0,03         -0,14\n",
              "10  São Paulo (SP)  mai  2020  ...               -0,03       0,04          0,38\n",
              "11  São Paulo (SP)  jun  2020  ...               -0,08       0,02          0,21\n",
              "\n",
              "[12 rows x 13 columns]"
            ]
          },
          "metadata": {
            "tags": []
          },
          "execution_count": 62
        }
      ]
    },
    {
      "cell_type": "markdown",
      "metadata": {
        "id": "Y-SagotpgTI8",
        "colab_type": "text"
      },
      "source": [
        "Tabela 1419 IPCA Variação no ano\n",
        "Fonte: [Data.rio](http://www.data.rio/datasets/tabela-1419-ipca-varia%C3%A7%C3%A3o-no-ano/data?geometry=-118.108%2C-33.657%2C49.147%2C-5.010&orderBy=local&where=local%20%3D%20%27S%C3%A3o%20Paulo%20(SP)%27%20AND%20Ano%20%3E%3D%202018%20AND%20Ano%20%3C%3D%202019)"
      ]
    },
    {
      "cell_type": "markdown",
      "metadata": {
        "id": "bozoneNNRskA",
        "colab_type": "text"
      },
      "source": [
        "**De acordo com [abicalçados](https://www.abicalcados.com.br/noticia/com-producao-em-queda-setor-calcadista-perde-mais-de-24-mil-postos-com-avanco-do-covid-19), o comercio de calçados teve grende impacto com esta pandemia considerando os indices acima, então pegamos o historico do Índice de volume de vendas no varejo no periodo de 12/2018 á 04/2019 para uma breve analise.**"
      ]
    },
    {
      "cell_type": "code",
      "metadata": {
        "id": "YouKvIM0dxYN",
        "colab_type": "code",
        "colab": {
          "base_uri": "https://localhost:8080/",
          "height": 204
        },
        "outputId": "960259db-f0ec-417f-b7d0-e8154321d54d"
      },
      "source": [
        "csv_indice_vendas = 'https://raw.githubusercontent.com/HackTime16/MaxPJ/master/Databases/Indices_Vendas.csv'\n",
        "indice_vendas = pd.read_csv(csv_indice_vendas,delimiter=';', encoding='cp1252')\n",
        "indice_vendas.columns = ['Mes/Ano','Indice']\n",
        "indice_vendas.head()"
      ],
      "execution_count": null,
      "outputs": [
        {
          "output_type": "execute_result",
          "data": {
            "text/html": [
              "<div>\n",
              "<style scoped>\n",
              "    .dataframe tbody tr th:only-of-type {\n",
              "        vertical-align: middle;\n",
              "    }\n",
              "\n",
              "    .dataframe tbody tr th {\n",
              "        vertical-align: top;\n",
              "    }\n",
              "\n",
              "    .dataframe thead th {\n",
              "        text-align: right;\n",
              "    }\n",
              "</style>\n",
              "<table border=\"1\" class=\"dataframe\">\n",
              "  <thead>\n",
              "    <tr style=\"text-align: right;\">\n",
              "      <th></th>\n",
              "      <th>Mes/Ano</th>\n",
              "      <th>Indice</th>\n",
              "    </tr>\n",
              "  </thead>\n",
              "  <tbody>\n",
              "    <tr>\n",
              "      <th>0</th>\n",
              "      <td>12/2018</td>\n",
              "      <td>171.1</td>\n",
              "    </tr>\n",
              "    <tr>\n",
              "      <th>1</th>\n",
              "      <td>01/2019</td>\n",
              "      <td>64.3</td>\n",
              "    </tr>\n",
              "    <tr>\n",
              "      <th>2</th>\n",
              "      <td>02/2019</td>\n",
              "      <td>62.7</td>\n",
              "    </tr>\n",
              "    <tr>\n",
              "      <th>3</th>\n",
              "      <td>03/2019</td>\n",
              "      <td>69.3</td>\n",
              "    </tr>\n",
              "    <tr>\n",
              "      <th>4</th>\n",
              "      <td>04/2019</td>\n",
              "      <td>66.8</td>\n",
              "    </tr>\n",
              "  </tbody>\n",
              "</table>\n",
              "</div>"
            ],
            "text/plain": [
              "   Mes/Ano  Indice\n",
              "0  12/2018   171.1\n",
              "1  01/2019    64.3\n",
              "2  02/2019    62.7\n",
              "3  03/2019    69.3\n",
              "4  04/2019    66.8"
            ]
          },
          "metadata": {
            "tags": []
          },
          "execution_count": 65
        }
      ]
    },
    {
      "cell_type": "markdown",
      "metadata": {
        "id": "vhGSu-PnhPbR",
        "colab_type": "text"
      },
      "source": [
        " Índice de volume de vendas no varejo - Tecidos, vestuário e calçados - São Paulo\n",
        "Fonte: [Banco Central](https://www3.bcb.gov.br/sgspub/localizarseries/localizarSeries.do?method=prepararTelaLocalizarSeries)"
      ]
    },
    {
      "cell_type": "markdown",
      "metadata": {
        "colab_type": "text",
        "id": "wvXfx2l5ITD-"
      },
      "source": [
        "**Em seguinda partimos para uma analise sobre os dados do Covid, com o objetivo de entender o comportamento do virus em relação ao espaço demagrafico decorrido pelo tempo.**"
      ]
    },
    {
      "cell_type": "code",
      "metadata": {
        "id": "D4BVfo5jB3XZ",
        "colab_type": "code",
        "colab": {}
      },
      "source": [
        "# Processamento em maquina local -- Objetivo: Reduzir o tamanho da base para regionalizar a base\n",
        "csv_casos_covid = '../Datasets/caso_full.csv'\n",
        "casos_covid = pd.read_csv(csv_casos_covid)\n",
        "casos_covid = casos_covid[casos_covid['city'].astype(str).str.contains('São Paulo')]\n",
        "casos_covid.describe()\n",
        "casos_covid.to_csv('../Datasets/Casos_covid_SP.csv', sep=';', encoding='cp1252', index=False)\n"
      ],
      "execution_count": null,
      "outputs": []
    },
    {
      "cell_type": "code",
      "metadata": {
        "id": "6eG6OIU7dxYJ",
        "colab_type": "code",
        "colab": {
          "base_uri": "https://localhost:8080/",
          "height": 309
        },
        "outputId": "8dca79de-1cbd-4987-db9e-394ee90a8887"
      },
      "source": [
        "csv_casos_covid = 'https://raw.githubusercontent.com/HackTime16/MaxPJ/master/Databases/Casos_covid_SP.csv'\n",
        "casos_covid = pd.read_csv(csv_casos_covid,delimiter=';', encoding='cp1252')\n",
        "casos_covid.head()"
      ],
      "execution_count": null,
      "outputs": [
        {
          "output_type": "execute_result",
          "data": {
            "text/html": [
              "<div>\n",
              "<style scoped>\n",
              "    .dataframe tbody tr th:only-of-type {\n",
              "        vertical-align: middle;\n",
              "    }\n",
              "\n",
              "    .dataframe tbody tr th {\n",
              "        vertical-align: top;\n",
              "    }\n",
              "\n",
              "    .dataframe thead th {\n",
              "        text-align: right;\n",
              "    }\n",
              "</style>\n",
              "<table border=\"1\" class=\"dataframe\">\n",
              "  <thead>\n",
              "    <tr style=\"text-align: right;\">\n",
              "      <th></th>\n",
              "      <th>city</th>\n",
              "      <th>city_ibge_code</th>\n",
              "      <th>date</th>\n",
              "      <th>epidemiological_week</th>\n",
              "      <th>estimated_population_2019</th>\n",
              "      <th>is_last</th>\n",
              "      <th>is_repeated</th>\n",
              "      <th>last_available_confirmed</th>\n",
              "      <th>last_available_confirmed_per_100k_inhabitants</th>\n",
              "      <th>last_available_date</th>\n",
              "      <th>last_available_death_rate</th>\n",
              "      <th>last_available_deaths</th>\n",
              "      <th>order_for_place</th>\n",
              "      <th>place_type</th>\n",
              "      <th>state</th>\n",
              "      <th>new_confirmed</th>\n",
              "      <th>new_deaths</th>\n",
              "    </tr>\n",
              "  </thead>\n",
              "  <tbody>\n",
              "    <tr>\n",
              "      <th>0</th>\n",
              "      <td>São Paulo</td>\n",
              "      <td>3550308.0</td>\n",
              "      <td>2020-02-25</td>\n",
              "      <td>9</td>\n",
              "      <td>12252023.0</td>\n",
              "      <td>False</td>\n",
              "      <td>False</td>\n",
              "      <td>1</td>\n",
              "      <td>0.00816</td>\n",
              "      <td>2020-02-25</td>\n",
              "      <td>0.0</td>\n",
              "      <td>0</td>\n",
              "      <td>1</td>\n",
              "      <td>city</td>\n",
              "      <td>SP</td>\n",
              "      <td>1</td>\n",
              "      <td>0</td>\n",
              "    </tr>\n",
              "    <tr>\n",
              "      <th>1</th>\n",
              "      <td>São Paulo</td>\n",
              "      <td>3550308.0</td>\n",
              "      <td>2020-02-26</td>\n",
              "      <td>9</td>\n",
              "      <td>12252023.0</td>\n",
              "      <td>False</td>\n",
              "      <td>False</td>\n",
              "      <td>1</td>\n",
              "      <td>0.00816</td>\n",
              "      <td>2020-02-26</td>\n",
              "      <td>0.0</td>\n",
              "      <td>0</td>\n",
              "      <td>2</td>\n",
              "      <td>city</td>\n",
              "      <td>SP</td>\n",
              "      <td>0</td>\n",
              "      <td>0</td>\n",
              "    </tr>\n",
              "    <tr>\n",
              "      <th>2</th>\n",
              "      <td>São Paulo</td>\n",
              "      <td>3550308.0</td>\n",
              "      <td>2020-02-27</td>\n",
              "      <td>9</td>\n",
              "      <td>12252023.0</td>\n",
              "      <td>False</td>\n",
              "      <td>False</td>\n",
              "      <td>1</td>\n",
              "      <td>0.00816</td>\n",
              "      <td>2020-02-27</td>\n",
              "      <td>0.0</td>\n",
              "      <td>0</td>\n",
              "      <td>3</td>\n",
              "      <td>city</td>\n",
              "      <td>SP</td>\n",
              "      <td>0</td>\n",
              "      <td>0</td>\n",
              "    </tr>\n",
              "    <tr>\n",
              "      <th>3</th>\n",
              "      <td>São Paulo</td>\n",
              "      <td>3550308.0</td>\n",
              "      <td>2020-02-28</td>\n",
              "      <td>9</td>\n",
              "      <td>12252023.0</td>\n",
              "      <td>False</td>\n",
              "      <td>False</td>\n",
              "      <td>2</td>\n",
              "      <td>0.01632</td>\n",
              "      <td>2020-02-28</td>\n",
              "      <td>0.0</td>\n",
              "      <td>0</td>\n",
              "      <td>4</td>\n",
              "      <td>city</td>\n",
              "      <td>SP</td>\n",
              "      <td>1</td>\n",
              "      <td>0</td>\n",
              "    </tr>\n",
              "    <tr>\n",
              "      <th>4</th>\n",
              "      <td>São Paulo</td>\n",
              "      <td>3550308.0</td>\n",
              "      <td>2020-02-29</td>\n",
              "      <td>9</td>\n",
              "      <td>12252023.0</td>\n",
              "      <td>False</td>\n",
              "      <td>False</td>\n",
              "      <td>2</td>\n",
              "      <td>0.01632</td>\n",
              "      <td>2020-02-29</td>\n",
              "      <td>0.0</td>\n",
              "      <td>0</td>\n",
              "      <td>5</td>\n",
              "      <td>city</td>\n",
              "      <td>SP</td>\n",
              "      <td>0</td>\n",
              "      <td>0</td>\n",
              "    </tr>\n",
              "  </tbody>\n",
              "</table>\n",
              "</div>"
            ],
            "text/plain": [
              "        city  city_ibge_code        date  ...  state  new_confirmed  new_deaths\n",
              "0  São Paulo       3550308.0  2020-02-25  ...     SP              1           0\n",
              "1  São Paulo       3550308.0  2020-02-26  ...     SP              0           0\n",
              "2  São Paulo       3550308.0  2020-02-27  ...     SP              0           0\n",
              "3  São Paulo       3550308.0  2020-02-28  ...     SP              1           0\n",
              "4  São Paulo       3550308.0  2020-02-29  ...     SP              0           0\n",
              "\n",
              "[5 rows x 17 columns]"
            ]
          },
          "metadata": {
            "tags": []
          },
          "execution_count": 64
        }
      ]
    },
    {
      "cell_type": "markdown",
      "metadata": {
        "id": "c9BY5XzFgJDT",
        "colab_type": "text"
      },
      "source": [
        "COVID-19 - São Paulo\n",
        "Fonte: [Brasil.io](https://brasil.io/dataset/covid19/caso_full/)"
      ]
    },
    {
      "cell_type": "markdown",
      "metadata": {
        "id": "ZTdIUI8DVinA",
        "colab_type": "text"
      },
      "source": [
        "**Por fim, pegamos uma amostra da distribuição de empresas que atualizaram seu status de atividade em 2020, e criamos um mapa de calor com a evolução com a evolução de atualizações por trimestre indicando o quantitativo da população por região do mês de Junho**"
      ]
    },
    {
      "cell_type": "code",
      "metadata": {
        "id": "bRWOe8D4Wpjn",
        "colab_type": "code",
        "colab": {
          "base_uri": "https://localhost:8080/",
          "height": 204
        },
        "outputId": "2d8c869c-7535-4298-d886-b71d27d115bf"
      },
      "source": [
        "csv_empresas_brasil = 'https://raw.githubusercontent.com/HackTime16/MaxPJ/master/Databases/Empresas_2020_V6.csv'\n",
        "empresas_brasil = pd.read_csv(csv_empresas_brasil,delimiter=';', encoding='cp1252')\n",
        "empresas_brasil.head()"
      ],
      "execution_count": 66,
      "outputs": [
        {
          "output_type": "execute_result",
          "data": {
            "text/html": [
              "<div>\n",
              "<style scoped>\n",
              "    .dataframe tbody tr th:only-of-type {\n",
              "        vertical-align: middle;\n",
              "    }\n",
              "\n",
              "    .dataframe tbody tr th {\n",
              "        vertical-align: top;\n",
              "    }\n",
              "\n",
              "    .dataframe thead th {\n",
              "        text-align: right;\n",
              "    }\n",
              "</style>\n",
              "<table border=\"1\" class=\"dataframe\">\n",
              "  <thead>\n",
              "    <tr style=\"text-align: right;\">\n",
              "      <th></th>\n",
              "      <th>data_situacao</th>\n",
              "      <th>uf</th>\n",
              "      <th>porte</th>\n",
              "      <th>Nome_Secao</th>\n",
              "      <th>Nome_Divisao</th>\n",
              "      <th>cnpj</th>\n",
              "    </tr>\n",
              "  </thead>\n",
              "  <tbody>\n",
              "    <tr>\n",
              "      <th>0</th>\n",
              "      <td>20200101</td>\n",
              "      <td>AL</td>\n",
              "      <td>1</td>\n",
              "      <td>ALOJAMENTO E ALIMENTAÇÃO</td>\n",
              "      <td>ALIMENTAÇÃO</td>\n",
              "      <td>1</td>\n",
              "    </tr>\n",
              "    <tr>\n",
              "      <th>1</th>\n",
              "      <td>20200101</td>\n",
              "      <td>AL</td>\n",
              "      <td>1</td>\n",
              "      <td>ATIVIDADES PROFISSIONAIS, CIENTÍFICAS E TÉCNICAS</td>\n",
              "      <td>OUTRAS ATIVIDADES PROFISSIONAIS, CIENTÍFICAS E...</td>\n",
              "      <td>1</td>\n",
              "    </tr>\n",
              "    <tr>\n",
              "      <th>2</th>\n",
              "      <td>20200101</td>\n",
              "      <td>AL</td>\n",
              "      <td>1</td>\n",
              "      <td>COMÉRCIO; REPARAÇÃO DE VEÍCULOS AUTOMOTORES E ...</td>\n",
              "      <td>COMÉRCIO VAREJISTA</td>\n",
              "      <td>16</td>\n",
              "    </tr>\n",
              "    <tr>\n",
              "      <th>3</th>\n",
              "      <td>20200101</td>\n",
              "      <td>AL</td>\n",
              "      <td>1</td>\n",
              "      <td>CONSTRUÇÃO</td>\n",
              "      <td>SERVIÇOS ESPECIALIZADOS PARA CONSTRUÇÃO</td>\n",
              "      <td>7</td>\n",
              "    </tr>\n",
              "    <tr>\n",
              "      <th>4</th>\n",
              "      <td>20200101</td>\n",
              "      <td>AL</td>\n",
              "      <td>1</td>\n",
              "      <td>INDÚSTRIAS DE TRANSFORMAÇÃO</td>\n",
              "      <td>CONFECÇÃO DE ARTIGOS DO VESTUÁRIO E ACESSÓRIOS</td>\n",
              "      <td>1</td>\n",
              "    </tr>\n",
              "  </tbody>\n",
              "</table>\n",
              "</div>"
            ],
            "text/plain": [
              "   data_situacao  uf  ...                                       Nome_Divisao cnpj\n",
              "0       20200101  AL  ...                                        ALIMENTAÇÃO    1\n",
              "1       20200101  AL  ...  OUTRAS ATIVIDADES PROFISSIONAIS, CIENTÍFICAS E...    1\n",
              "2       20200101  AL  ...                                 COMÉRCIO VAREJISTA   16\n",
              "3       20200101  AL  ...            SERVIÇOS ESPECIALIZADOS PARA CONSTRUÇÃO    7\n",
              "4       20200101  AL  ...     CONFECÇÃO DE ARTIGOS DO VESTUÁRIO E ACESSÓRIOS    1\n",
              "\n",
              "[5 rows x 6 columns]"
            ]
          },
          "metadata": {
            "tags": []
          },
          "execution_count": 66
        }
      ]
    }
  ]
}