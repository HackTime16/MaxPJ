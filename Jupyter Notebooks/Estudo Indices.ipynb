{
 "metadata": {
  "language_info": {
   "codemirror_mode": {
    "name": "ipython",
    "version": 3
   },
   "file_extension": ".py",
   "mimetype": "text/x-python",
   "name": "python",
   "nbconvert_exporter": "python",
   "pygments_lexer": "ipython3",
   "version": 3
  },
  "orig_nbformat": 2,
  "kernelspec": {
   "name": "python_defaultSpec_1596403549063",
   "display_name": "Python 3.8.5 64-bit"
  }
 },
 "nbformat": 4,
 "nbformat_minor": 2,
 "cells": [
  {
   "cell_type": "code",
   "execution_count": 3,
   "metadata": {},
   "outputs": [],
   "source": [
    "import pandas as pd"
   ]
  },
  {
   "cell_type": "code",
   "execution_count": 58,
   "metadata": {},
   "outputs": [
    {
     "output_type": "execute_result",
     "data": {
      "text/plain": "            local  Mês   Ano Índice_geral 1_Alimentação_e_bebidas 2_Habitação  \\\n0  São Paulo (SP)  jan  2018         0,21                    0,33       -0,89   \n1  São Paulo (SP)  fev  2018         0,50                   -0,14       -0,64   \n2  São Paulo (SP)  mar  2018         0,72                    0,45       -0,53   \n3  São Paulo (SP)  abr  2018         0,82                    0,06       -0,77   \n4  São Paulo (SP)  mai  2018         1,02                    0,57       -0,42   \n\n  3_Artigos_de_residência 4_Vestuário 5_Transportes  \\\n0                    0,17       -1,47          1,21   \n1                    0,20       -1,08          1,71   \n2                    0,12       -1,19          1,59   \n3                    0,32       -0,18          1,71   \n4                   -0,30        0,55          1,42   \n\n  6_Saúde_e_cuidados_pessoais 7_Despesas_pessoais 8_Educação 9_Comunicação  \n0                        0,58                0,13       0,19          0,15  \n1                        1,00                0,19       3,70          0,25  \n2                        1,53                0,41       4,08         -0,13  \n3                        2,65                0,40       4,16         -0,19  \n4                        3,03                0,51       4,19         -0,21  ",
      "text/html": "<div>\n<style scoped>\n    .dataframe tbody tr th:only-of-type {\n        vertical-align: middle;\n    }\n\n    .dataframe tbody tr th {\n        vertical-align: top;\n    }\n\n    .dataframe thead th {\n        text-align: right;\n    }\n</style>\n<table border=\"1\" class=\"dataframe\">\n  <thead>\n    <tr style=\"text-align: right;\">\n      <th></th>\n      <th>local</th>\n      <th>Mês</th>\n      <th>Ano</th>\n      <th>Índice_geral</th>\n      <th>1_Alimentação_e_bebidas</th>\n      <th>2_Habitação</th>\n      <th>3_Artigos_de_residência</th>\n      <th>4_Vestuário</th>\n      <th>5_Transportes</th>\n      <th>6_Saúde_e_cuidados_pessoais</th>\n      <th>7_Despesas_pessoais</th>\n      <th>8_Educação</th>\n      <th>9_Comunicação</th>\n    </tr>\n  </thead>\n  <tbody>\n    <tr>\n      <th>0</th>\n      <td>São Paulo (SP)</td>\n      <td>jan</td>\n      <td>2018</td>\n      <td>0,21</td>\n      <td>0,33</td>\n      <td>-0,89</td>\n      <td>0,17</td>\n      <td>-1,47</td>\n      <td>1,21</td>\n      <td>0,58</td>\n      <td>0,13</td>\n      <td>0,19</td>\n      <td>0,15</td>\n    </tr>\n    <tr>\n      <th>1</th>\n      <td>São Paulo (SP)</td>\n      <td>fev</td>\n      <td>2018</td>\n      <td>0,50</td>\n      <td>-0,14</td>\n      <td>-0,64</td>\n      <td>0,20</td>\n      <td>-1,08</td>\n      <td>1,71</td>\n      <td>1,00</td>\n      <td>0,19</td>\n      <td>3,70</td>\n      <td>0,25</td>\n    </tr>\n    <tr>\n      <th>2</th>\n      <td>São Paulo (SP)</td>\n      <td>mar</td>\n      <td>2018</td>\n      <td>0,72</td>\n      <td>0,45</td>\n      <td>-0,53</td>\n      <td>0,12</td>\n      <td>-1,19</td>\n      <td>1,59</td>\n      <td>1,53</td>\n      <td>0,41</td>\n      <td>4,08</td>\n      <td>-0,13</td>\n    </tr>\n    <tr>\n      <th>3</th>\n      <td>São Paulo (SP)</td>\n      <td>abr</td>\n      <td>2018</td>\n      <td>0,82</td>\n      <td>0,06</td>\n      <td>-0,77</td>\n      <td>0,32</td>\n      <td>-0,18</td>\n      <td>1,71</td>\n      <td>2,65</td>\n      <td>0,40</td>\n      <td>4,16</td>\n      <td>-0,19</td>\n    </tr>\n    <tr>\n      <th>4</th>\n      <td>São Paulo (SP)</td>\n      <td>mai</td>\n      <td>2018</td>\n      <td>1,02</td>\n      <td>0,57</td>\n      <td>-0,42</td>\n      <td>-0,30</td>\n      <td>0,55</td>\n      <td>1,42</td>\n      <td>3,03</td>\n      <td>0,51</td>\n      <td>4,19</td>\n      <td>-0,21</td>\n    </tr>\n  </tbody>\n</table>\n</div>"
     },
     "metadata": {},
     "execution_count": 58
    }
   ],
   "source": [
    "csv_indice_sp = '../Empresas/Indices_SP.csv'\n",
    "\n",
    "indice_sp = pd.read_csv(csv_indice_sp, delimiter=';', encoding='cp1252')\n",
    "indice_sp.head()\n"
   ]
  },
  {
   "cell_type": "code",
   "execution_count": 51,
   "metadata": {},
   "outputs": [
    {
     "output_type": "execute_result",
     "data": {
      "text/plain": "        city  city_ibge_code        date  epidemiological_week  \\\n0  São Paulo       3550308.0  2020-02-25                     9   \n1  São Paulo       3550308.0  2020-02-26                     9   \n2  São Paulo       3550308.0  2020-02-27                     9   \n3  São Paulo       3550308.0  2020-02-28                     9   \n4  São Paulo       3550308.0  2020-02-29                     9   \n\n   estimated_population_2019  is_last  is_repeated  last_available_confirmed  \\\n0                 12252023.0    False        False                         1   \n1                 12252023.0    False        False                         1   \n2                 12252023.0    False        False                         1   \n3                 12252023.0    False        False                         2   \n4                 12252023.0    False        False                         2   \n\n   last_available_confirmed_per_100k_inhabitants last_available_date  \\\n0                                        0.00816          2020-02-25   \n1                                        0.00816          2020-02-26   \n2                                        0.00816          2020-02-27   \n3                                        0.01632          2020-02-28   \n4                                        0.01632          2020-02-29   \n\n   last_available_death_rate  last_available_deaths  order_for_place  \\\n0                        0.0                      0                1   \n1                        0.0                      0                2   \n2                        0.0                      0                3   \n3                        0.0                      0                4   \n4                        0.0                      0                5   \n\n  place_type state  new_confirmed  new_deaths  \n0       city    SP              1           0  \n1       city    SP              0           0  \n2       city    SP              0           0  \n3       city    SP              1           0  \n4       city    SP              0           0  ",
      "text/html": "<div>\n<style scoped>\n    .dataframe tbody tr th:only-of-type {\n        vertical-align: middle;\n    }\n\n    .dataframe tbody tr th {\n        vertical-align: top;\n    }\n\n    .dataframe thead th {\n        text-align: right;\n    }\n</style>\n<table border=\"1\" class=\"dataframe\">\n  <thead>\n    <tr style=\"text-align: right;\">\n      <th></th>\n      <th>city</th>\n      <th>city_ibge_code</th>\n      <th>date</th>\n      <th>epidemiological_week</th>\n      <th>estimated_population_2019</th>\n      <th>is_last</th>\n      <th>is_repeated</th>\n      <th>last_available_confirmed</th>\n      <th>last_available_confirmed_per_100k_inhabitants</th>\n      <th>last_available_date</th>\n      <th>last_available_death_rate</th>\n      <th>last_available_deaths</th>\n      <th>order_for_place</th>\n      <th>place_type</th>\n      <th>state</th>\n      <th>new_confirmed</th>\n      <th>new_deaths</th>\n    </tr>\n  </thead>\n  <tbody>\n    <tr>\n      <th>0</th>\n      <td>São Paulo</td>\n      <td>3550308.0</td>\n      <td>2020-02-25</td>\n      <td>9</td>\n      <td>12252023.0</td>\n      <td>False</td>\n      <td>False</td>\n      <td>1</td>\n      <td>0.00816</td>\n      <td>2020-02-25</td>\n      <td>0.0</td>\n      <td>0</td>\n      <td>1</td>\n      <td>city</td>\n      <td>SP</td>\n      <td>1</td>\n      <td>0</td>\n    </tr>\n    <tr>\n      <th>1</th>\n      <td>São Paulo</td>\n      <td>3550308.0</td>\n      <td>2020-02-26</td>\n      <td>9</td>\n      <td>12252023.0</td>\n      <td>False</td>\n      <td>False</td>\n      <td>1</td>\n      <td>0.00816</td>\n      <td>2020-02-26</td>\n      <td>0.0</td>\n      <td>0</td>\n      <td>2</td>\n      <td>city</td>\n      <td>SP</td>\n      <td>0</td>\n      <td>0</td>\n    </tr>\n    <tr>\n      <th>2</th>\n      <td>São Paulo</td>\n      <td>3550308.0</td>\n      <td>2020-02-27</td>\n      <td>9</td>\n      <td>12252023.0</td>\n      <td>False</td>\n      <td>False</td>\n      <td>1</td>\n      <td>0.00816</td>\n      <td>2020-02-27</td>\n      <td>0.0</td>\n      <td>0</td>\n      <td>3</td>\n      <td>city</td>\n      <td>SP</td>\n      <td>0</td>\n      <td>0</td>\n    </tr>\n    <tr>\n      <th>3</th>\n      <td>São Paulo</td>\n      <td>3550308.0</td>\n      <td>2020-02-28</td>\n      <td>9</td>\n      <td>12252023.0</td>\n      <td>False</td>\n      <td>False</td>\n      <td>2</td>\n      <td>0.01632</td>\n      <td>2020-02-28</td>\n      <td>0.0</td>\n      <td>0</td>\n      <td>4</td>\n      <td>city</td>\n      <td>SP</td>\n      <td>1</td>\n      <td>0</td>\n    </tr>\n    <tr>\n      <th>4</th>\n      <td>São Paulo</td>\n      <td>3550308.0</td>\n      <td>2020-02-29</td>\n      <td>9</td>\n      <td>12252023.0</td>\n      <td>False</td>\n      <td>False</td>\n      <td>2</td>\n      <td>0.01632</td>\n      <td>2020-02-29</td>\n      <td>0.0</td>\n      <td>0</td>\n      <td>5</td>\n      <td>city</td>\n      <td>SP</td>\n      <td>0</td>\n      <td>0</td>\n    </tr>\n  </tbody>\n</table>\n</div>"
     },
     "metadata": {},
     "execution_count": 51
    }
   ],
   "source": [
    "csv_casos_covid = '../Empresas/Casos_covid_SP.csv'\n",
    "casos_covid = pd.read_csv(csv_casos_covid, delimiter=';', encoding='cp1252')\n",
    "casos_covid.head()"
   ]
  },
  {
   "cell_type": "code",
   "execution_count": 59,
   "metadata": {},
   "outputs": [
    {
     "output_type": "execute_result",
     "data": {
      "text/plain": "      Data  \\\n0  12/2018   \n1  01/2019   \n2  02/2019   \n3  03/2019   \n4  04/2019   \n\n   1516 - ï¿½ndice de volume de vendas no varejo - Tecidos, vestuï¿½rio e calï¿½ados - Sï¿½o Paulo - ï¿½ndice  \n0                                              171.1                                                           \n1                                               64.3                                                           \n2                                               62.7                                                           \n3                                               69.3                                                           \n4                                               66.8                                                           ",
      "text/html": "<div>\n<style scoped>\n    .dataframe tbody tr th:only-of-type {\n        vertical-align: middle;\n    }\n\n    .dataframe tbody tr th {\n        vertical-align: top;\n    }\n\n    .dataframe thead th {\n        text-align: right;\n    }\n</style>\n<table border=\"1\" class=\"dataframe\">\n  <thead>\n    <tr style=\"text-align: right;\">\n      <th></th>\n      <th>Data</th>\n      <th>1516 - ï¿½ndice de volume de vendas no varejo - Tecidos, vestuï¿½rio e calï¿½ados - Sï¿½o Paulo - ï¿½ndice</th>\n    </tr>\n  </thead>\n  <tbody>\n    <tr>\n      <th>0</th>\n      <td>12/2018</td>\n      <td>171.1</td>\n    </tr>\n    <tr>\n      <th>1</th>\n      <td>01/2019</td>\n      <td>64.3</td>\n    </tr>\n    <tr>\n      <th>2</th>\n      <td>02/2019</td>\n      <td>62.7</td>\n    </tr>\n    <tr>\n      <th>3</th>\n      <td>03/2019</td>\n      <td>69.3</td>\n    </tr>\n    <tr>\n      <th>4</th>\n      <td>04/2019</td>\n      <td>66.8</td>\n    </tr>\n  </tbody>\n</table>\n</div>"
     },
     "metadata": {},
     "execution_count": 59
    }
   ],
   "source": [
    "csv_indice_vendas = '../Empresas/Indices_Vendas.csv'\n",
    "indice_vendas = pd.read_csv(csv_indice_vendas,delimiter=';', encoding='cp1252')\n",
    "indice_vendas.head()"
   ]
  },
  {
   "cell_type": "code",
   "execution_count": 58,
   "metadata": {},
   "outputs": [],
   "source": [
    "csv_empresas_sp = '../Empresas/Empresas_2020_V2.csv'\n",
    "empresas_sp = pd.read_csv(csv_empresas_sp, delimiter=';',encoding='cp1252')\n",
    "empresas_sp = empresas_sp[empresas_sp['uf'].astype(str).str.contains('SP')]\n",
    "empresas_sp = empresas_sp[empresas_sp['Cod_Divisao'].astype(str).str.contains('47')]"
   ]
  },
  {
   "cell_type": "code",
   "execution_count": 59,
   "metadata": {},
   "outputs": [],
   "source": [
    "empresas_sp.to_csv('../Empresas/Empresas_2020_V3.csv',sep=';', encoding='cp1252', index=False)"
   ]
  }
 ]
}