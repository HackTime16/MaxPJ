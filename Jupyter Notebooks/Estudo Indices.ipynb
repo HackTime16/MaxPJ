{
 "metadata": {
  "language_info": {
   "codemirror_mode": {
    "name": "ipython",
    "version": 3
   },
   "file_extension": ".py",
   "mimetype": "text/x-python",
   "name": "python",
   "nbconvert_exporter": "python",
   "pygments_lexer": "ipython3",
   "version": 3
  },
  "orig_nbformat": 2,
  "kernelspec": {
   "name": "python_defaultSpec_1596390966761",
   "display_name": "Python 3.8.5 64-bit"
  }
 },
 "nbformat": 4,
 "nbformat_minor": 2,
 "cells": [
  {
   "cell_type": "code",
   "execution_count": 3,
   "metadata": {},
   "outputs": [],
   "source": [
    "import pandas as pd"
   ]
  },
  {
   "cell_type": "code",
   "execution_count": 34,
   "metadata": {},
   "outputs": [
    {
     "output_type": "execute_result",
     "data": {
      "text/plain": "            local  Mês   Ano  Índice_geral  1_Alimentação_e_bebidas  \\\n0  São Paulo (SP)  jan  2018          0.21                     0.33   \n1  São Paulo (SP)  fev  2018          0.50                    -0.14   \n2  São Paulo (SP)  mar  2018          0.72                     0.45   \n3  São Paulo (SP)  abr  2018          0.82                     0.06   \n4  São Paulo (SP)  mai  2018          1.02                     0.57   \n\n   2_Habitação  3_Artigos_de_residência  4_Vestuário  5_Transportes  \\\n0        -0.89                     0.17        -1.47           1.21   \n1        -0.64                     0.20        -1.08           1.71   \n2        -0.53                     0.12        -1.19           1.59   \n3        -0.77                     0.32        -0.18           1.71   \n4        -0.42                    -0.30         0.55           1.42   \n\n   6_Saúde_e_cuidados_pessoais  7_Despesas_pessoais  8_Educação  \\\n0                         0.58                 0.13        0.19   \n1                         1.00                 0.19        3.70   \n2                         1.53                 0.41        4.08   \n3                         2.65                 0.40        4.16   \n4                         3.03                 0.51        4.19   \n\n   9_Comunicação  FID  \n0           0.15  753  \n1           0.25  754  \n2          -0.13  755  \n3          -0.19  756  \n4          -0.21  757  ",
      "text/html": "<div>\n<style scoped>\n    .dataframe tbody tr th:only-of-type {\n        vertical-align: middle;\n    }\n\n    .dataframe tbody tr th {\n        vertical-align: top;\n    }\n\n    .dataframe thead th {\n        text-align: right;\n    }\n</style>\n<table border=\"1\" class=\"dataframe\">\n  <thead>\n    <tr style=\"text-align: right;\">\n      <th></th>\n      <th>local</th>\n      <th>Mês</th>\n      <th>Ano</th>\n      <th>Índice_geral</th>\n      <th>1_Alimentação_e_bebidas</th>\n      <th>2_Habitação</th>\n      <th>3_Artigos_de_residência</th>\n      <th>4_Vestuário</th>\n      <th>5_Transportes</th>\n      <th>6_Saúde_e_cuidados_pessoais</th>\n      <th>7_Despesas_pessoais</th>\n      <th>8_Educação</th>\n      <th>9_Comunicação</th>\n      <th>FID</th>\n    </tr>\n  </thead>\n  <tbody>\n    <tr>\n      <th>0</th>\n      <td>São Paulo (SP)</td>\n      <td>jan</td>\n      <td>2018</td>\n      <td>0.21</td>\n      <td>0.33</td>\n      <td>-0.89</td>\n      <td>0.17</td>\n      <td>-1.47</td>\n      <td>1.21</td>\n      <td>0.58</td>\n      <td>0.13</td>\n      <td>0.19</td>\n      <td>0.15</td>\n      <td>753</td>\n    </tr>\n    <tr>\n      <th>1</th>\n      <td>São Paulo (SP)</td>\n      <td>fev</td>\n      <td>2018</td>\n      <td>0.50</td>\n      <td>-0.14</td>\n      <td>-0.64</td>\n      <td>0.20</td>\n      <td>-1.08</td>\n      <td>1.71</td>\n      <td>1.00</td>\n      <td>0.19</td>\n      <td>3.70</td>\n      <td>0.25</td>\n      <td>754</td>\n    </tr>\n    <tr>\n      <th>2</th>\n      <td>São Paulo (SP)</td>\n      <td>mar</td>\n      <td>2018</td>\n      <td>0.72</td>\n      <td>0.45</td>\n      <td>-0.53</td>\n      <td>0.12</td>\n      <td>-1.19</td>\n      <td>1.59</td>\n      <td>1.53</td>\n      <td>0.41</td>\n      <td>4.08</td>\n      <td>-0.13</td>\n      <td>755</td>\n    </tr>\n    <tr>\n      <th>3</th>\n      <td>São Paulo (SP)</td>\n      <td>abr</td>\n      <td>2018</td>\n      <td>0.82</td>\n      <td>0.06</td>\n      <td>-0.77</td>\n      <td>0.32</td>\n      <td>-0.18</td>\n      <td>1.71</td>\n      <td>2.65</td>\n      <td>0.40</td>\n      <td>4.16</td>\n      <td>-0.19</td>\n      <td>756</td>\n    </tr>\n    <tr>\n      <th>4</th>\n      <td>São Paulo (SP)</td>\n      <td>mai</td>\n      <td>2018</td>\n      <td>1.02</td>\n      <td>0.57</td>\n      <td>-0.42</td>\n      <td>-0.30</td>\n      <td>0.55</td>\n      <td>1.42</td>\n      <td>3.03</td>\n      <td>0.51</td>\n      <td>4.19</td>\n      <td>-0.21</td>\n      <td>757</td>\n    </tr>\n  </tbody>\n</table>\n</div>"
     },
     "metadata": {},
     "execution_count": 34
    }
   ],
   "source": [
    "csv_indice_sp = '../Empresas/Indices_SP.csv'\n",
    "\n",
    "indice_sp = pd.read_csv(csv_indice_sp, delimiter=';', encoding='cp1252')\n",
    "indice_sp.head()\n"
   ]
  },
  {
   "cell_type": "code",
   "execution_count": 48,
   "metadata": {},
   "outputs": [],
   "source": [
    "csv_casos_covid = '../Empresas/Casos_covid_SP.csv'\n",
    "casos_covid = pd.read_csv(csv_casos_covid, index=False,delimiter=';', encoding='cp1252')\n",
    "casos_covid.head()"
   ]
  },
  {
   "cell_type": "code",
   "execution_count": 40,
   "metadata": {},
   "outputs": [
    {
     "output_type": "execute_result",
     "data": {
      "text/plain": "      Data  \\\n0  12/2018   \n1  01/2019   \n2  02/2019   \n3  03/2019   \n4  04/2019   \n\n  1516 - Índice de volume de vendas no varejo - Tecidos, vestuário e calçados - São Paulo - Índice  \n0                                             171,10                                                \n1                                              64,30                                                \n2                                              62,70                                                \n3                                              69,30                                                \n4                                              66,80                                                ",
      "text/html": "<div>\n<style scoped>\n    .dataframe tbody tr th:only-of-type {\n        vertical-align: middle;\n    }\n\n    .dataframe tbody tr th {\n        vertical-align: top;\n    }\n\n    .dataframe thead th {\n        text-align: right;\n    }\n</style>\n<table border=\"1\" class=\"dataframe\">\n  <thead>\n    <tr style=\"text-align: right;\">\n      <th></th>\n      <th>Data</th>\n      <th>1516 - Índice de volume de vendas no varejo - Tecidos, vestuário e calçados - São Paulo - Índice</th>\n    </tr>\n  </thead>\n  <tbody>\n    <tr>\n      <th>0</th>\n      <td>12/2018</td>\n      <td>171,10</td>\n    </tr>\n    <tr>\n      <th>1</th>\n      <td>01/2019</td>\n      <td>64,30</td>\n    </tr>\n    <tr>\n      <th>2</th>\n      <td>02/2019</td>\n      <td>62,70</td>\n    </tr>\n    <tr>\n      <th>3</th>\n      <td>03/2019</td>\n      <td>69,30</td>\n    </tr>\n    <tr>\n      <th>4</th>\n      <td>04/2019</td>\n      <td>66,80</td>\n    </tr>\n  </tbody>\n</table>\n</div>"
     },
     "metadata": {},
     "execution_count": 40
    }
   ],
   "source": [
    "csv_indice_vendas = '../Empresas/Indices_Vendas.csv'\n",
    "indice_vendas = pd.read_csv(csv_indice_vendas,delimiter=';', encoding='cp1252')\n",
    "indice_vendas.head()"
   ]
  }
 ]
}