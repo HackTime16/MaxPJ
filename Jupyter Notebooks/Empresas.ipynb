{
 "metadata": {
  "language_info": {
   "codemirror_mode": {
    "name": "ipython",
    "version": 3
   },
   "file_extension": ".py",
   "mimetype": "text/x-python",
   "name": "python",
   "nbconvert_exporter": "python",
   "pygments_lexer": "ipython3",
   "version": 3
  },
  "orig_nbformat": 2,
  "kernelspec": {
   "name": "python_defaultSpec_1596405857315",
   "display_name": "Python 3.8.5 64-bit"
  }
 },
 "nbformat": 4,
 "nbformat_minor": 2,
 "cells": [
  {
   "cell_type": "code",
   "execution_count": 1,
   "metadata": {},
   "outputs": [],
   "source": [
    "import pandas as pd\n",
    "\n",
    "cnx = \"E:\\DataSets\\Empresas\\Empresas_2020_V2.csv\"\n",
    "\n",
    "df = pd.read_csv(cnx, delimiter=';', encoding='cp1252')\n",
    "df = df[df['situacao'].astype(str).str.contains('2')]\n",
    "newDs = df.groupby([\n",
    "    'data_situacao',\n",
    "    'uf',\n",
    "    'porte',\n",
    "    'Nome_Secao',\n",
    "    'Nome_Divisao'\n",
    "    ])['cnpj'].count()\n",
    "#newDs.describe()   \n",
    "newDs.to_csv('../Empresas/Empresas_2020_V6.csv', sep=';', encoding='cp1252')\n"
   ]
  }
 ]
}